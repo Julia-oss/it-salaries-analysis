{
 "cells": [
  {
   "cell_type": "markdown",
   "id": "1344fb8a",
   "metadata": {},
   "source": [
    "# 📊 Анализ зарплат в IT\n",
    "\n",
    "Анализ данных о вакансиях с hh.ru."
   ]
  },
  {
   "cell_type": "code",
   "execution_count": null,
   "id": "0473333d",
   "metadata": {},
   "outputs": [],
   "source": [
    "import pandas as pd\n",
    "import matplotlib.pyplot as plt\n",
    "import seaborn as sns\n",
    "\n",
    "%matplotlib inline"
   ]
  },
  {
   "cell_type": "code",
   "execution_count": null,
   "id": "442f05ee",
   "metadata": {},
   "outputs": [],
   "source": [
    "# Загрузка данных\n",
    "df = pd.read_csv('data/hh_vacancies.csv')\n",
    "df.head()"
   ]
  },
  {
   "cell_type": "code",
   "execution_count": null,
   "id": "42673bb1",
   "metadata": {},
   "outputs": [],
   "source": [
    "# Средняя зарплата (если указана вилка)\n",
    "df['salary_avg'] = (df['salary_from'] + df['salary_to']) / 2\n",
    "df[['job_title', 'salary_avg']].head()"
   ]
  },
  {
   "cell_type": "code",
   "execution_count": null,
   "id": "e9accbfe",
   "metadata": {},
   "outputs": [],
   "source": [
    "# Средняя зарплата по профессиям\n",
    "job_salary = df.groupby('job_title')['salary_avg'].mean().sort_values(ascending=False)\n",
    "job_salary.plot(kind='bar', figsize=(10,5), title='Средняя зарплата по профессиям')\n",
    "plt.ylabel('RUB')\n",
    "plt.show()"
   ]
  },
  {
   "cell_type": "code",
   "execution_count": null,
   "id": "739b39fe",
   "metadata": {},
   "outputs": [],
   "source": [
    "# Boxplot зарплаты по опыту\n",
    "plt.figure(figsize=(8,5))\n",
    "sns.boxplot(x='experience', y='salary_avg', data=df)\n",
    "plt.title('Зарплата по опыту')\n",
    "plt.ylabel('RUB')\n",
    "plt.show()"
   ]
  }
 ],
 "metadata": {},
 "nbformat": 4,
 "nbformat_minor": 5
}
